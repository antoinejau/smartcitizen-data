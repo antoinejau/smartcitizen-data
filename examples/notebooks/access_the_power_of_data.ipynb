{
 "cells": [
  {
   "cell_type": "markdown",
   "metadata": {},
   "source": [
    "# Load data from open data APIs"
   ]
  },
  {
   "cell_type": "markdown",
   "metadata": {},
   "source": [
    "This example will show how to get data from different air quality APIs using scdata. Possible sources are:\n",
    "\n",
    "- Smart Citizen API\n",
    "- Open data portal from Agencia Salut Publica Catalunya\n",
    "- MUV project\n"
   ]
  },
  {
   "cell_type": "markdown",
   "metadata": {},
   "source": [
    "## Smart Citizen API"
   ]
  },
  {
   "cell_type": "markdown",
   "metadata": {},
   "source": [
    "The documentation for accessing the Smart Citizen API is available in [developer.smartcitizen.me/](http://developer.smartcitizen.me/).\n",
    "\n",
    "This example will show the basic interactions with the devices in the SmartCitizen API."
   ]
  },
  {
   "cell_type": "code",
   "execution_count": null,
   "metadata": {},
   "outputs": [],
   "source": [
    "from scdata.io.read_api import ScApiDevice"
   ]
  },
  {
   "cell_type": "markdown",
   "metadata": {},
   "source": [
    "Get the device data based on it's ID"
   ]
  },
  {
   "cell_type": "code",
   "execution_count": null,
   "metadata": {},
   "outputs": [],
   "source": [
    "device = ScApiDevice('10712')"
   ]
  },
  {
   "cell_type": "markdown",
   "metadata": {},
   "source": [
    "Get the device's location"
   ]
  },
  {
   "cell_type": "code",
   "execution_count": null,
   "metadata": {},
   "outputs": [],
   "source": [
    "device.get_device_location()"
   ]
  },
  {
   "cell_type": "markdown",
   "metadata": {},
   "source": [
    "Get the kit ID (what type of KIT it is - i.e.: SCK 2.0, 2.1, 1.5, Station...)"
   ]
  },
  {
   "cell_type": "code",
   "execution_count": null,
   "metadata": {},
   "outputs": [],
   "source": [
    "device.get_kit_ID()"
   ]
  },
  {
   "cell_type": "markdown",
   "metadata": {},
   "source": [
    "Get the date of the last reading"
   ]
  },
  {
   "cell_type": "code",
   "execution_count": null,
   "metadata": {},
   "outputs": [],
   "source": [
    "device.get_device_last_reading()"
   ]
  },
  {
   "cell_type": "markdown",
   "metadata": {},
   "source": [
    "Get the device data and put it in a pandas dataframe. Options are available regarding rollup, start and end dates and if you want to clean or not NaNs or missing data"
   ]
  },
  {
   "cell_type": "code",
   "execution_count": null,
   "metadata": {},
   "outputs": [],
   "source": [
    "device.get_device_sensors()"
   ]
  },
  {
   "cell_type": "code",
   "execution_count": null,
   "metadata": {},
   "outputs": [],
   "source": [
    "device.get_device_data(start_date = None, end_date = None, frequency = '1Min', clean_na = None);"
   ]
  },
  {
   "cell_type": "markdown",
   "metadata": {},
   "source": [
    "Get a glympse of what's in the data"
   ]
  },
  {
   "cell_type": "code",
   "execution_count": null,
   "metadata": {},
   "outputs": [],
   "source": [
    "device.data.describe()"
   ]
  },
  {
   "cell_type": "markdown",
   "metadata": {},
   "source": [
    "Get access to the data and start doing things"
   ]
  },
  {
   "cell_type": "code",
   "execution_count": null,
   "metadata": {},
   "outputs": [],
   "source": [
    "device.data.head(4)"
   ]
  },
  {
   "cell_type": "markdown",
   "metadata": {},
   "source": [
    "### Filtering devices\n",
    "\n",
    "We can also retrieve data from SmartCitizen API by filtering extra information such as location, date, tags, etc.\n",
    "\n",
    "We will be using the following function:"
   ]
  },
  {
   "cell_type": "code",
   "execution_count": null,
   "metadata": {},
   "outputs": [],
   "source": [
    "help(ScApiDevice.get_world_map)"
   ]
  },
  {
   "cell_type": "markdown",
   "metadata": {},
   "source": [
    "You can filter the devices by date, city, area, and tags"
   ]
  },
  {
   "cell_type": "code",
   "execution_count": null,
   "metadata": {
    "scrolled": true
   },
   "outputs": [],
   "source": [
    "# Get devices in Barcelona\n",
    "ScApiDevice.get_world_map(city='Barcelona')"
   ]
  },
  {
   "cell_type": "code",
   "execution_count": null,
   "metadata": {
    "scrolled": true
   },
   "outputs": [],
   "source": [
    "# Get devices in Barcelona that posted after 2018-12-31\n",
    "ScApiDevice.get_world_map(max_date= '2018-12-31', city='Barcelona')"
   ]
  },
  {
   "cell_type": "code",
   "execution_count": null,
   "metadata": {
    "scrolled": true
   },
   "outputs": [],
   "source": [
    "# Get devices in Barcelona that started posting before 2018-12-31\n",
    "ScApiDevice.get_world_map(min_date= '2018-12-31', city='Barcelona')"
   ]
  },
  {
   "cell_type": "code",
   "execution_count": null,
   "metadata": {
    "scrolled": true
   },
   "outputs": [],
   "source": [
    "# Get devices in Barcelona that posted during 2019\n",
    "ScApiDevice.get_world_map(min_date= '2018-12-31', max_date= '2019-12-31', city='Barcelona')"
   ]
  },
  {
   "cell_type": "code",
   "execution_count": null,
   "metadata": {},
   "outputs": [],
   "source": [
    "# Get devices in Barcelona, online AND outdoor\n",
    "ScApiDevice.get_world_map(city='Barcelona', tags=['outdoor', 'online'], tag_method = 'all')"
   ]
  },
  {
   "cell_type": "code",
   "execution_count": null,
   "metadata": {
    "scrolled": true
   },
   "outputs": [],
   "source": [
    "# Get devices in Barcelona, online OR outdoor\n",
    "ScApiDevice.get_world_map(city='Barcelona', tags=['outdoor', 'online'], tag_method = 'any')"
   ]
  },
  {
   "cell_type": "code",
   "execution_count": null,
   "metadata": {},
   "outputs": [],
   "source": [
    "# Get devices within a certain area - lat = 41.402706, long = 2.174350, in a radius of 200m\n",
    "ScApiDevice.get_world_map(within = (41.402706, 2.174350, 200))"
   ]
  },
  {
   "cell_type": "code",
   "execution_count": null,
   "metadata": {},
   "outputs": [],
   "source": [
    "# Get devices within a certain area - lat = 41.402706, long = 2.174350, in a radius of 200m, that are outdoor and online\n",
    "ScApiDevice.get_world_map(within = (41.402706, 2.174350, 200), tags=['outdoor', 'online'], tag_method = 'all')"
   ]
  },
  {
   "cell_type": "markdown",
   "metadata": {},
   "source": [
    "## MUV Device"
   ]
  },
  {
   "cell_type": "code",
   "execution_count": null,
   "metadata": {},
   "outputs": [],
   "source": [
    "%load_ext autoreload\n",
    "%autoreload 2"
   ]
  },
  {
   "cell_type": "code",
   "execution_count": null,
   "metadata": {},
   "outputs": [],
   "source": [
    "from scdata.io.read_api import MuvApiDevice\n",
    "from scdata._config import config\n",
    "\n",
    "if not config.is_init: config.get_meta_data()"
   ]
  },
  {
   "cell_type": "code",
   "execution_count": null,
   "metadata": {},
   "outputs": [],
   "source": [
    "muvdev = MuvApiDevice('11707152')"
   ]
  },
  {
   "cell_type": "code",
   "execution_count": null,
   "metadata": {},
   "outputs": [],
   "source": [
    "muvdev.get_device_location()"
   ]
  },
  {
   "cell_type": "code",
   "execution_count": null,
   "metadata": {},
   "outputs": [],
   "source": [
    "muvdev.get_device_sensors()"
   ]
  },
  {
   "cell_type": "code",
   "execution_count": null,
   "metadata": {},
   "outputs": [],
   "source": [
    "muvdev.get_device_data()"
   ]
  },
  {
   "cell_type": "code",
   "execution_count": null,
   "metadata": {},
   "outputs": [],
   "source": []
  },
  {
   "cell_type": "markdown",
   "metadata": {
    "collapsed": "true"
   },
   "source": [
    "## Using an open data portal\n",
    "\n",
    "This example shows how to retrieve data from the `analisis.transparenciacatalunya.cat`. The documentation for this api can be found [here](https://dev.socrata.com/foundry/analisi.transparenciacatalunya.cat/uy6k-2s8r)"
   ]
  },
  {
   "cell_type": "code",
   "execution_count": null,
   "metadata": {},
   "outputs": [],
   "source": [
    "from scdata.io.read_api import DadesObertesApiDevice"
   ]
  },
  {
   "cell_type": "markdown",
   "metadata": {},
   "source": [
    "You can get data for a device knowing it's id (`codi_eoi`)) or a nearby location. "
   ]
  },
  {
   "cell_type": "code",
   "execution_count": null,
   "metadata": {},
   "outputs": [],
   "source": [
    "device = DadesObertesApiDevice(did = 8019043)\n",
    "print (device.id)"
   ]
  },
  {
   "cell_type": "markdown",
   "metadata": {},
   "source": [
    "Alternatively, the device can be downloaded using a (lat, long) location and a radius in meters (the API does not respond with great accuracy, so better to be somehow precise - radius < 2000-3000m):"
   ]
  },
  {
   "cell_type": "code",
   "execution_count": null,
   "metadata": {},
   "outputs": [],
   "source": [
    "device = DadesObertesApiDevice(within = (41.385494, 2.154074, 2000))\n",
    "print (device.id)"
   ]
  },
  {
   "cell_type": "code",
   "execution_count": null,
   "metadata": {},
   "outputs": [],
   "source": [
    "device.get_device_location()"
   ]
  },
  {
   "cell_type": "code",
   "execution_count": null,
   "metadata": {},
   "outputs": [],
   "source": [
    "device.get_device_sensors()"
   ]
  },
  {
   "cell_type": "code",
   "execution_count": null,
   "metadata": {},
   "outputs": [],
   "source": [
    "device.get_device_data(start_date = '2019-10-01', end_date = '2020-04-01', frequency = '1H')"
   ]
  },
  {
   "cell_type": "markdown",
   "metadata": {},
   "source": [
    "You can also query a better filtering by using the get_world_map staticmethod"
   ]
  },
  {
   "cell_type": "code",
   "execution_count": null,
   "metadata": {},
   "outputs": [],
   "source": [
    "help(DadesObertesApiDevice.get_world_map)"
   ]
  },
  {
   "cell_type": "code",
   "execution_count": null,
   "metadata": {},
   "outputs": [],
   "source": [
    "# Barcelona stations\n",
    "barcelona_stations = DadesObertesApiDevice.get_world_map(city='Barcelona')\n",
    "print ('Stations in Barcelona')\n",
    "print (barcelona_stations)"
   ]
  },
  {
   "cell_type": "code",
   "execution_count": null,
   "metadata": {},
   "outputs": [],
   "source": [
    "# Barcelona traffic stations\n",
    "bt_stations = DadesObertesApiDevice.get_world_map(city='Barcelona')\n",
    "print ('Traffic stations in Barcelona')\n",
    "print (bt_stations)"
   ]
  },
  {
   "cell_type": "code",
   "execution_count": null,
   "metadata": {},
   "outputs": [],
   "source": [
    "# Get stations in Barcelona of type: 'traffic'\n",
    "DadesObertesApiDevice.get_world_map(city='Barcelona', station_type = 'traffic')"
   ]
  },
  {
   "cell_type": "code",
   "execution_count": null,
   "metadata": {},
   "outputs": [],
   "source": [
    "# Get stations in Barcelona of type: 'traffic'\n",
    "DadesObertesApiDevice.get_world_map(city='Barcelona', station_type = 'background')"
   ]
  },
  {
   "cell_type": "code",
   "execution_count": null,
   "metadata": {},
   "outputs": [],
   "source": [
    "# All urban stations\n",
    "urban_stations = DadesObertesApiDevice.get_world_map(area_type='urban')\n",
    "print ('Urban Stations')\n",
    "print (urban_stations)"
   ]
  },
  {
   "cell_type": "markdown",
   "metadata": {
    "collapsed": "true"
   },
   "source": [
    "## Alternative methods\n",
    "\n",
    "This allows to define more complex blueprints in `data/interim/blueprints.yaml` and include other sensor types."
   ]
  },
  {
   "cell_type": "code",
   "execution_count": null,
   "metadata": {},
   "outputs": [],
   "source": [
    "from scdata import Device"
   ]
  },
  {
   "cell_type": "code",
   "execution_count": null,
   "metadata": {},
   "outputs": [],
   "source": [
    "station = Device(blueprint = 'sc_21_station', descriptor = {'id': '10752', \n",
    "                                                                     'source': 'api',\n",
    "                                                                     'metrics': {'CO': {'id': 2168293},\n",
    "                                                                                 'NO2': {'id': 2168294},\n",
    "                                                                                 'O3': {'id': 2168295}\n",
    "                                                                                },\n",
    "                                                                      'frequency': '1Min'})"
   ]
  },
  {
   "cell_type": "markdown",
   "metadata": {},
   "source": [
    "Load the device data based on your descriptor. The descriptor is intended to fill in the gaps of a blueprint. For instance, a `sc_21_station` contains:\n",
    "    "
   ]
  },
  {
   "cell_type": "code",
   "execution_count": null,
   "metadata": {},
   "outputs": [],
   "source": [
    "station.sensors"
   ]
  },
  {
   "cell_type": "code",
   "execution_count": null,
   "metadata": {},
   "outputs": [],
   "source": [
    "station.metrics"
   ]
  },
  {
   "cell_type": "code",
   "execution_count": null,
   "metadata": {},
   "outputs": [],
   "source": [
    "station.load()"
   ]
  },
  {
   "cell_type": "markdown",
   "metadata": {},
   "source": [
    "Get access to the data and start doing things"
   ]
  },
  {
   "cell_type": "code",
   "execution_count": null,
   "metadata": {},
   "outputs": [],
   "source": [
    "station.readings.head(4)"
   ]
  },
  {
   "cell_type": "code",
   "execution_count": null,
   "metadata": {},
   "outputs": [],
   "source": []
  }
 ],
 "metadata": {
  "celltoolbar": "Raw Cell Format",
  "kernelspec": {
   "display_name": "Python 3",
   "language": "python",
   "name": "python3"
  },
  "language_info": {
   "codemirror_mode": {
    "name": "ipython",
    "version": 3
   },
   "file_extension": ".py",
   "mimetype": "text/x-python",
   "name": "python",
   "nbconvert_exporter": "python",
   "pygments_lexer": "ipython3",
   "version": "3.7.3"
  },
  "toc": {
   "nav_menu": {
    "height": "357px",
    "width": "307px"
   },
   "number_sections": true,
   "sideBar": true,
   "skip_h1_title": false,
   "title_cell": "Table of Contents",
   "title_sidebar": "Contents",
   "toc_cell": true,
   "toc_position": {
    "height": "48px",
    "left": "552px",
    "top": "705.497px",
    "width": "315px"
   },
   "toc_section_display": true,
   "toc_window_display": true
  },
  "toc-autonumbering": false,
  "toc-showcode": false,
  "toc-showmarkdowntxt": false,
  "toc-showtags": false
 },
 "nbformat": 4,
 "nbformat_minor": 4
}
