{
 "cells": [
  {
   "cell_type": "markdown",
   "metadata": {},
   "source": [
    "# Data processing\n",
    "\n",
    "This example walks through the basics for processing data and added metrics.\n",
    "\n",
    "## Concepts\n",
    "\n",
    "Devices in the framework contain _raw readings_ that are under the device.readings pandas dataframe. A list of the sensors raw metrics can be shown in device.sensors.\n",
    "\n",
    "Devices can also contain processed values called metrics. These metrics can be added by passing a callable function and then processed."
   ]
  },
  {
   "cell_type": "code",
   "execution_count": null,
   "metadata": {},
   "outputs": [],
   "source": [
    "%load_ext autoreload\n",
    "%autoreload 2"
   ]
  },
  {
   "cell_type": "code",
   "execution_count": null,
   "metadata": {},
   "outputs": [],
   "source": [
    "import scdata as sc\n",
    "sc._config.config.out_level='DEBUG'\n",
    "sc._config.config.framework='jupyterlab'\n",
    "\n",
    "test = sc.Test('EXAMPLE')"
   ]
  },
  {
   "cell_type": "code",
   "execution_count": null,
   "metadata": {
    "scrolled": true
   },
   "outputs": [],
   "source": [
    "test.load()"
   ]
  },
  {
   "cell_type": "markdown",
   "metadata": {},
   "source": [
    "## Process basics"
   ]
  },
  {
   "cell_type": "code",
   "execution_count": null,
   "metadata": {},
   "outputs": [],
   "source": [
    "## The readings for each device are accessible via\n",
    "test.devices['10751'].readings"
   ]
  },
  {
   "cell_type": "code",
   "execution_count": null,
   "metadata": {
    "scrolled": true
   },
   "outputs": [],
   "source": [
    "## The sensors for each device are accessible via\n",
    "test.devices['10751'].sensors"
   ]
  },
  {
   "cell_type": "code",
   "execution_count": null,
   "metadata": {
    "scrolled": true
   },
   "outputs": [],
   "source": [
    "## The metrics for each device are accessible via\n",
    "test.devices['10751'].metrics"
   ]
  },
  {
   "cell_type": "code",
   "execution_count": null,
   "metadata": {},
   "outputs": [],
   "source": [
    "help(sc.Test.process)"
   ]
  },
  {
   "cell_type": "code",
   "execution_count": null,
   "metadata": {},
   "outputs": [],
   "source": [
    "## Process the metrics as a default\n",
    "test.process()"
   ]
  },
  {
   "cell_type": "markdown",
   "metadata": {},
   "source": [
    "## Add metrics"
   ]
  },
  {
   "cell_type": "code",
   "execution_count": null,
   "metadata": {
    "scrolled": true
   },
   "outputs": [],
   "source": [
    "help(sc.Device.add_metric)"
   ]
  },
  {
   "cell_type": "code",
   "execution_count": null,
   "metadata": {
    "scrolled": true
   },
   "outputs": [],
   "source": [
    "help(sc.Device.process)"
   ]
  },
  {
   "cell_type": "code",
   "execution_count": null,
   "metadata": {
    "scrolled": true
   },
   "outputs": [],
   "source": [
    "help(sc.device.process)"
   ]
  },
  {
   "cell_type": "code",
   "execution_count": null,
   "metadata": {
    "scrolled": true
   },
   "outputs": [],
   "source": [
    "help(sc.device.process.timeseries)\n",
    "# help(sc.device.process.alphasense)\n",
    "# help(sc.device.process.regression)"
   ]
  },
  {
   "cell_type": "code",
   "execution_count": null,
   "metadata": {},
   "outputs": [],
   "source": [
    "help(sc.device.process.timeseries.poly_ts)"
   ]
  },
  {
   "cell_type": "code",
   "execution_count": null,
   "metadata": {},
   "outputs": [],
   "source": [
    "metric = {f'TEMP_POLY': {'process': 'poly_ts',\n",
    "                           'kwargs': {'channels': ['TEMP', 'EXT_TEMP'],\n",
    "                                      'coefficients': [1, -1]}\n",
    "                        }}\n",
    "\n",
    "test.devices['10751'].add_metric(metric)\n",
    "test.devices['10751'].process(metrics = metric)"
   ]
  },
  {
   "cell_type": "code",
   "execution_count": null,
   "metadata": {
    "scrolled": true
   },
   "outputs": [],
   "source": [
    "test.devices['10751'].readings"
   ]
  },
  {
   "cell_type": "code",
   "execution_count": null,
   "metadata": {},
   "outputs": [],
   "source": [
    "traces = {1: {'devices': '10751',\n",
    "              'channel': 'TEMP_POLY',\n",
    "              'subplot': 1},\n",
    "          2: {'devices': '10751',\n",
    "              'channel': 'TEMP',\n",
    "              'subplot': 1},          \n",
    "         }\n",
    "\n",
    "options = {\n",
    "            'frequency': '1H'\n",
    "}\n",
    "test.ts_iplot(traces = traces, options = options);"
   ]
  },
  {
   "cell_type": "markdown",
   "metadata": {},
   "source": [
    "## Reprocessing\n",
    "\n",
    "When adding a new metric, one can only process the added metric as above or the whole test (test.process()).\n",
    "\n",
    "If processes take too long, when adding a metric, the new ones can be processed as: test.reprocess()"
   ]
  },
  {
   "cell_type": "code",
   "execution_count": null,
   "metadata": {},
   "outputs": [],
   "source": [
    "help(sc.Test.reprocess)"
   ]
  },
  {
   "cell_type": "code",
   "execution_count": null,
   "metadata": {},
   "outputs": [],
   "source": [
    "help(sc.device.process.timeseries.clean_ts)"
   ]
  },
  {
   "cell_type": "code",
   "execution_count": null,
   "metadata": {},
   "outputs": [],
   "source": [
    "metric = {f'PM_1_CLEAN': {'process': 'clean_ts',\n",
    "                           'kwargs': {'name': 'PM_1', 'limits': [0, 1000], 'window_size': 3}\n",
    "                        }}\n",
    "\n",
    "test.devices['10751'].add_metric(metric)\n",
    "test.reprocess()"
   ]
  },
  {
   "cell_type": "code",
   "execution_count": null,
   "metadata": {},
   "outputs": [],
   "source": [
    "traces = {1: {'devices': '10751',\n",
    "              'channel': 'PM_1',\n",
    "              'subplot': 1},\n",
    "          2: {'devices': '10751',\n",
    "              'channel': 'PM_1_CLEAN',\n",
    "              'subplot': 1},          \n",
    "         }\n",
    "\n",
    "options = {\n",
    "            'frequency': '1H'\n",
    "}\n",
    "test.ts_iplot(traces = traces, options = options);"
   ]
  }
 ],
 "metadata": {
  "kernelspec": {
   "display_name": "Python 3",
   "language": "python",
   "name": "python3"
  },
  "language_info": {
   "codemirror_mode": {
    "name": "ipython",
    "version": 3
   },
   "file_extension": ".py",
   "mimetype": "text/x-python",
   "name": "python",
   "nbconvert_exporter": "python",
   "pygments_lexer": "ipython3",
   "version": "3.7.3"
  }
 },
 "nbformat": 4,
 "nbformat_minor": 4
}
